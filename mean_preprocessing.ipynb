{
 "cells": [
  {
   "cell_type": "code",
   "execution_count": 2,
   "metadata": {},
   "outputs": [],
   "source": [
    "import numpy as np\n",
    "import pandas as pd\n",
    "import numpy as np\n",
    "import matplotlib.pyplot as plt\n",
    "import math\n",
    "\n",
    "test = pd.read_csv(\"./data/X_test.csv\")\n",
    "train = pd.read_csv(\"./data/X_train.csv\") \n"
   ]
  },
  {
   "cell_type": "code",
   "execution_count": 345,
   "metadata": {},
   "outputs": [],
   "source": [
    "def predict_by_svd(df, targetUsers, targetProduct, usersCompare, usersProd):\n",
    "    df_Score = df.pivot(\n",
    "        index = 'UserId',\n",
    "        columns = 'ProductId',\n",
    "        values = 'Score'\n",
    "    ).fillna(0)\n",
    "\n",
    "    from numpy.linalg import svd\n",
    "\n",
    "    userMean = np.mean(df_Score, axis = 1).to_numpy()\n",
    "    # df['user_mean_score'].fillna(mean_score, inplace = True)\n",
    "    matrix_mean = df_Score - userMean.reshape(-1, 1)\n",
    "\n",
    "    U, sigma, vt = svd(matrix_mean, full_matrices = False)\n",
    "        \n",
    "    sigma = np.diag(sigma)\n",
    "\n",
    "    MatrixApprox = np.dot(np.dot(U, sigma), vt) + userMean.reshape(-1,1)\n",
    "    Matrix = pd.DataFrame(MatrixApprox, index =  usersCompare, columns= usersProd)\n",
    "    index = Matrix.index.values.tolist()\n",
    "    if (targetUsers in index) == False:\n",
    "        return\n",
    "    else:\n",
    "        result = Matrix.loc[targetUsers][targetProduct]\n",
    "        return result.round(1) "
   ]
  },
  {
   "cell_type": "code",
   "execution_count": null,
   "metadata": {},
   "outputs": [],
   "source": [
    "train.index.values.tolist()"
   ]
  },
  {
   "cell_type": "code",
   "execution_count": 346,
   "metadata": {},
   "outputs": [
    {
     "data": {
      "text/plain": [
       "300000"
      ]
     },
     "execution_count": 346,
     "metadata": {},
     "output_type": "execute_result"
    }
   ],
   "source": [
    "testAct = test[['ProductId', 'UserId', 'Score']]\n",
    "testProd = list(testAct['ProductId'])\n",
    "testUser = list(testAct['UserId'])\n",
    "len(testProd)"
   ]
  },
  {
   "cell_type": "code",
   "execution_count": null,
   "metadata": {},
   "outputs": [],
   "source": [
    "def predict_by_comparing_users(df):\n",
    "    pred_score = []\n",
    "    testAct = df[['ProductId', 'UserId', 'Score']]\n",
    "    testProd = list(testAct['ProductId'])\n",
    "    testUser = list(testAct['UserId'])\n",
    "\n",
    "    for i in range(len(testUser)): \n",
    "        if (i+1)%100 == 0:\n",
    "            print('Review {} of {}'.format(i+1, len(testUser)))\n",
    "        #Target UserId:\n",
    "        targetUsers = testUser[i]\n",
    "        #Target Product:\n",
    "        targetProduct = testProd[i]\n",
    "    \n",
    "        #Listof users watched Target Product:\n",
    "        productScored = train[train['ProductId']==targetProduct]\n",
    "        sameUser = list(productScored['UserId'].values)\n",
    "        sameUser += [targetUsers]\n",
    "\n",
    "        #Dataframe of product that target user watched along with other users:\n",
    "        usersProd = list(train[train['UserId']==targetUsers].ProductId)\n",
    "        usersProd += [targetProduct]\n",
    "        usersSameProd = train[train['ProductId'].isin(usersProd)]  \n",
    "        \n",
    "        #Final DF that we are going to looking for \n",
    "        finalDf= usersSameProd[usersSameProd['UserId'].isin(sameUser)]\n",
    "        finalDf.groupby('UserId').Score.count()\n",
    "        usersCompare = list(finalDf.groupby('UserId').groups)\n",
    " \n",
    "        pred_score += [predict_by_svd(finalDf, targetUsers, targetProduct, usersCompare, usersProd)]\n",
    "\n",
    "    return pred_score\n",
    "    \n",
    "prediction = predict_by_comparing_users(test)\n",
    "    "
   ]
  },
  {
   "cell_type": "code",
   "execution_count": null,
   "metadata": {},
   "outputs": [
    {
     "data": {
      "text/html": [
       "<div>\n",
       "<style scoped>\n",
       "    .dataframe tbody tr th:only-of-type {\n",
       "        vertical-align: middle;\n",
       "    }\n",
       "\n",
       "    .dataframe tbody tr th {\n",
       "        vertical-align: top;\n",
       "    }\n",
       "\n",
       "    .dataframe thead th {\n",
       "        text-align: right;\n",
       "    }\n",
       "</style>\n",
       "<table border=\"1\" class=\"dataframe\">\n",
       "  <thead>\n",
       "    <tr style=\"text-align: right;\">\n",
       "      <th></th>\n",
       "      <th>UserId</th>\n",
       "      <th>Predict_comparing_users</th>\n",
       "    </tr>\n",
       "  </thead>\n",
       "  <tbody>\n",
       "    <tr>\n",
       "      <th>6000</th>\n",
       "      <td>A3L5NHE84NCRCX</td>\n",
       "      <td>5.0</td>\n",
       "    </tr>\n",
       "    <tr>\n",
       "      <th>6001</th>\n",
       "      <td>A1865MB0KN26D6</td>\n",
       "      <td>4.0</td>\n",
       "    </tr>\n",
       "    <tr>\n",
       "      <th>6002</th>\n",
       "      <td>A1A4OI8NWWCZDZ</td>\n",
       "      <td>5.0</td>\n",
       "    </tr>\n",
       "    <tr>\n",
       "      <th>6003</th>\n",
       "      <td>A1RV9CQTA666FH</td>\n",
       "      <td>5.0</td>\n",
       "    </tr>\n",
       "    <tr>\n",
       "      <th>6004</th>\n",
       "      <td>A2BSZPRBKYAB2K</td>\n",
       "      <td>5.0</td>\n",
       "    </tr>\n",
       "    <tr>\n",
       "      <th>...</th>\n",
       "      <td>...</td>\n",
       "      <td>...</td>\n",
       "    </tr>\n",
       "    <tr>\n",
       "      <th>9995</th>\n",
       "      <td>A3EANXZM97V8YS</td>\n",
       "      <td>5.0</td>\n",
       "    </tr>\n",
       "    <tr>\n",
       "      <th>9996</th>\n",
       "      <td>A2J3MR64L567OK</td>\n",
       "      <td>1.0</td>\n",
       "    </tr>\n",
       "    <tr>\n",
       "      <th>9997</th>\n",
       "      <td>A39CX0EE4BZCZC</td>\n",
       "      <td>5.0</td>\n",
       "    </tr>\n",
       "    <tr>\n",
       "      <th>9998</th>\n",
       "      <td>A31O7B59DW7OHR</td>\n",
       "      <td>5.0</td>\n",
       "    </tr>\n",
       "    <tr>\n",
       "      <th>9999</th>\n",
       "      <td>A3UDYY6L2NH3JS</td>\n",
       "      <td>4.0</td>\n",
       "    </tr>\n",
       "  </tbody>\n",
       "</table>\n",
       "<p>4000 rows × 2 columns</p>\n",
       "</div>"
      ],
      "text/plain": [
       "              UserId  Predict_comparing_users\n",
       "6000  A3L5NHE84NCRCX                      5.0\n",
       "6001  A1865MB0KN26D6                      4.0\n",
       "6002  A1A4OI8NWWCZDZ                      5.0\n",
       "6003  A1RV9CQTA666FH                      5.0\n",
       "6004  A2BSZPRBKYAB2K                      5.0\n",
       "...              ...                      ...\n",
       "9995  A3EANXZM97V8YS                      5.0\n",
       "9996  A2J3MR64L567OK                      1.0\n",
       "9997  A39CX0EE4BZCZC                      5.0\n",
       "9998  A31O7B59DW7OHR                      5.0\n",
       "9999  A3UDYY6L2NH3JS                      4.0\n",
       "\n",
       "[4000 rows x 2 columns]"
      ]
     },
     "execution_count": 358,
     "metadata": {},
     "output_type": "execute_result"
    }
   ],
   "source": [
    "testUserId = pd.DataFrame(test['UserId'])\n",
    "testUserId['Predict_comparing_users'] = prediction\n",
    "testUserId\n",
    "testUserId.to_csv(\"predict_test.csv\", index= None)\n",
    "testUserId[6000:10000]"
   ]
  }
 ],
 "metadata": {
  "interpreter": {
   "hash": "55f881645833b0ff5773e68d59b2dc9dc9902af6bb910a3164321a63ab13a7eb"
  },
  "kernelspec": {
   "display_name": "Python 3.10.2 64-bit",
   "language": "python",
   "name": "python3"
  },
  "language_info": {
   "codemirror_mode": {
    "name": "ipython",
    "version": 3
   },
   "file_extension": ".py",
   "mimetype": "text/x-python",
   "name": "python",
   "nbconvert_exporter": "python",
   "pygments_lexer": "ipython3",
   "version": "3.10.2"
  },
  "orig_nbformat": 4
 },
 "nbformat": 4,
 "nbformat_minor": 2
}
